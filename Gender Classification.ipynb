{
 "cells": [
  {
   "cell_type": "markdown",
   "metadata": {},
   "source": [
    "## Gender Classification using different models\n",
    "\n",
    "Dataset acquired from https://www.kaggle.com/hb20007/gender-classification?select=Transformed+Data+Set+-+Sheet1.csv"
   ]
  },
  {
   "cell_type": "code",
   "execution_count": 1,
   "metadata": {},
   "outputs": [],
   "source": [
    "import pandas as pd\n",
    "import numpy as np\n",
    "import seaborn as sns"
   ]
  },
  {
   "cell_type": "code",
   "execution_count": 2,
   "metadata": {},
   "outputs": [],
   "source": [
    "data = pd.read_csv(\"genderdataset.csv\")"
   ]
  },
  {
   "cell_type": "code",
   "execution_count": 3,
   "metadata": {
    "scrolled": true
   },
   "outputs": [
    {
     "data": {
      "text/html": [
       "<div>\n",
       "<style scoped>\n",
       "    .dataframe tbody tr th:only-of-type {\n",
       "        vertical-align: middle;\n",
       "    }\n",
       "\n",
       "    .dataframe tbody tr th {\n",
       "        vertical-align: top;\n",
       "    }\n",
       "\n",
       "    .dataframe thead th {\n",
       "        text-align: right;\n",
       "    }\n",
       "</style>\n",
       "<table border=\"1\" class=\"dataframe\">\n",
       "  <thead>\n",
       "    <tr style=\"text-align: right;\">\n",
       "      <th></th>\n",
       "      <th>Favorite Color</th>\n",
       "      <th>Favorite Music Genre</th>\n",
       "      <th>Favorite Beverage</th>\n",
       "      <th>Favorite Soft Drink</th>\n",
       "      <th>Gender</th>\n",
       "    </tr>\n",
       "  </thead>\n",
       "  <tbody>\n",
       "    <tr>\n",
       "      <th>0</th>\n",
       "      <td>Cool</td>\n",
       "      <td>Rock</td>\n",
       "      <td>Vodka</td>\n",
       "      <td>7UP/Sprite</td>\n",
       "      <td>F</td>\n",
       "    </tr>\n",
       "    <tr>\n",
       "      <th>1</th>\n",
       "      <td>Neutral</td>\n",
       "      <td>Hip hop</td>\n",
       "      <td>Vodka</td>\n",
       "      <td>Coca Cola/Pepsi</td>\n",
       "      <td>F</td>\n",
       "    </tr>\n",
       "    <tr>\n",
       "      <th>2</th>\n",
       "      <td>Warm</td>\n",
       "      <td>Rock</td>\n",
       "      <td>Wine</td>\n",
       "      <td>Coca Cola/Pepsi</td>\n",
       "      <td>F</td>\n",
       "    </tr>\n",
       "    <tr>\n",
       "      <th>3</th>\n",
       "      <td>Warm</td>\n",
       "      <td>Folk/Traditional</td>\n",
       "      <td>Whiskey</td>\n",
       "      <td>Fanta</td>\n",
       "      <td>F</td>\n",
       "    </tr>\n",
       "    <tr>\n",
       "      <th>4</th>\n",
       "      <td>Cool</td>\n",
       "      <td>Rock</td>\n",
       "      <td>Vodka</td>\n",
       "      <td>Coca Cola/Pepsi</td>\n",
       "      <td>F</td>\n",
       "    </tr>\n",
       "  </tbody>\n",
       "</table>\n",
       "</div>"
      ],
      "text/plain": [
       "  Favorite Color Favorite Music Genre Favorite Beverage Favorite Soft Drink  \\\n",
       "0           Cool                 Rock             Vodka          7UP/Sprite   \n",
       "1        Neutral              Hip hop             Vodka     Coca Cola/Pepsi   \n",
       "2           Warm                 Rock              Wine     Coca Cola/Pepsi   \n",
       "3           Warm     Folk/Traditional           Whiskey               Fanta   \n",
       "4           Cool                 Rock             Vodka     Coca Cola/Pepsi   \n",
       "\n",
       "  Gender  \n",
       "0      F  \n",
       "1      F  \n",
       "2      F  \n",
       "3      F  \n",
       "4      F  "
      ]
     },
     "execution_count": 3,
     "metadata": {},
     "output_type": "execute_result"
    }
   ],
   "source": [
    "data.head()"
   ]
  },
  {
   "cell_type": "code",
   "execution_count": 4,
   "metadata": {},
   "outputs": [
    {
     "data": {
      "text/plain": [
       "Index(['Favorite Color', 'Favorite Music Genre', 'Favorite Beverage',\n",
       "       'Favorite Soft Drink', 'Gender'],\n",
       "      dtype='object')"
      ]
     },
     "execution_count": 4,
     "metadata": {},
     "output_type": "execute_result"
    }
   ],
   "source": [
    "data.columns"
   ]
  },
  {
   "cell_type": "code",
   "execution_count": 5,
   "metadata": {},
   "outputs": [
    {
     "data": {
      "text/plain": [
       "array(['Cool', 'Neutral', 'Warm'], dtype=object)"
      ]
     },
     "execution_count": 5,
     "metadata": {},
     "output_type": "execute_result"
    }
   ],
   "source": [
    "data['Favorite Color'].unique()"
   ]
  },
  {
   "cell_type": "code",
   "execution_count": 6,
   "metadata": {},
   "outputs": [
    {
     "data": {
      "text/plain": [
       "array(['Rock', 'Hip hop', 'Folk/Traditional', 'Jazz/Blues', 'Pop',\n",
       "       'Electronic', 'R&B and soul'], dtype=object)"
      ]
     },
     "execution_count": 6,
     "metadata": {},
     "output_type": "execute_result"
    }
   ],
   "source": [
    "data['Favorite Music Genre'].unique()"
   ]
  },
  {
   "cell_type": "code",
   "execution_count": 7,
   "metadata": {},
   "outputs": [
    {
     "data": {
      "text/plain": [
       "array(['Vodka', 'Wine', 'Whiskey', \"Doesn't drink\", 'Beer', 'Other'],\n",
       "      dtype=object)"
      ]
     },
     "execution_count": 7,
     "metadata": {},
     "output_type": "execute_result"
    }
   ],
   "source": [
    "data['Favorite Beverage'].unique()"
   ]
  },
  {
   "cell_type": "code",
   "execution_count": 8,
   "metadata": {},
   "outputs": [
    {
     "data": {
      "text/plain": [
       "array(['7UP/Sprite', 'Coca Cola/Pepsi', 'Fanta', 'Other'], dtype=object)"
      ]
     },
     "execution_count": 8,
     "metadata": {},
     "output_type": "execute_result"
    }
   ],
   "source": [
    "data['Favorite Soft Drink'].unique()"
   ]
  },
  {
   "cell_type": "code",
   "execution_count": 9,
   "metadata": {},
   "outputs": [
    {
     "data": {
      "text/plain": [
       "array(['F', 'M'], dtype=object)"
      ]
     },
     "execution_count": 9,
     "metadata": {},
     "output_type": "execute_result"
    }
   ],
   "source": [
    "data['Gender'].unique()"
   ]
  },
  {
   "cell_type": "markdown",
   "metadata": {},
   "source": [
    "## Encoding Categorical Data"
   ]
  },
  {
   "cell_type": "code",
   "execution_count": 10,
   "metadata": {},
   "outputs": [
    {
     "data": {
      "text/html": [
       "<div>\n",
       "<style scoped>\n",
       "    .dataframe tbody tr th:only-of-type {\n",
       "        vertical-align: middle;\n",
       "    }\n",
       "\n",
       "    .dataframe tbody tr th {\n",
       "        vertical-align: top;\n",
       "    }\n",
       "\n",
       "    .dataframe thead th {\n",
       "        text-align: right;\n",
       "    }\n",
       "</style>\n",
       "<table border=\"1\" class=\"dataframe\">\n",
       "  <thead>\n",
       "    <tr style=\"text-align: right;\">\n",
       "      <th></th>\n",
       "      <th>Favorite Color</th>\n",
       "      <th>Favorite Music Genre</th>\n",
       "      <th>Favorite Beverage</th>\n",
       "      <th>Favorite Soft Drink</th>\n",
       "      <th>Gender</th>\n",
       "    </tr>\n",
       "  </thead>\n",
       "  <tbody>\n",
       "    <tr>\n",
       "      <th>0</th>\n",
       "      <td>1</td>\n",
       "      <td>1</td>\n",
       "      <td>1</td>\n",
       "      <td>1</td>\n",
       "      <td>2</td>\n",
       "    </tr>\n",
       "    <tr>\n",
       "      <th>1</th>\n",
       "      <td>2</td>\n",
       "      <td>2</td>\n",
       "      <td>1</td>\n",
       "      <td>2</td>\n",
       "      <td>2</td>\n",
       "    </tr>\n",
       "    <tr>\n",
       "      <th>2</th>\n",
       "      <td>3</td>\n",
       "      <td>1</td>\n",
       "      <td>2</td>\n",
       "      <td>2</td>\n",
       "      <td>2</td>\n",
       "    </tr>\n",
       "    <tr>\n",
       "      <th>3</th>\n",
       "      <td>3</td>\n",
       "      <td>3</td>\n",
       "      <td>3</td>\n",
       "      <td>3</td>\n",
       "      <td>2</td>\n",
       "    </tr>\n",
       "    <tr>\n",
       "      <th>4</th>\n",
       "      <td>1</td>\n",
       "      <td>1</td>\n",
       "      <td>1</td>\n",
       "      <td>2</td>\n",
       "      <td>2</td>\n",
       "    </tr>\n",
       "  </tbody>\n",
       "</table>\n",
       "</div>"
      ],
      "text/plain": [
       "  Favorite Color Favorite Music Genre Favorite Beverage Favorite Soft Drink  \\\n",
       "0              1                    1                 1                   1   \n",
       "1              2                    2                 1                   2   \n",
       "2              3                    1                 2                   2   \n",
       "3              3                    3                 3                   3   \n",
       "4              1                    1                 1                   2   \n",
       "\n",
       "  Gender  \n",
       "0      2  \n",
       "1      2  \n",
       "2      2  \n",
       "3      2  \n",
       "4      2  "
      ]
     },
     "execution_count": 10,
     "metadata": {},
     "output_type": "execute_result"
    }
   ],
   "source": [
    "encoded = pd.get_dummies(data)\n",
    "encoded = encoded.to_numpy()\n",
    "\n",
    "\n",
    "data['Favorite Color'] = data['Favorite Color'].replace(['Cool'],'1')\n",
    "data['Favorite Color'] = data['Favorite Color'].replace(['Neutral'],'2')\n",
    "data['Favorite Color'] = data['Favorite Color'].replace(['Warm'],'3')\n",
    "\n",
    "data['Favorite Music Genre'] = data['Favorite Music Genre'].replace(['Rock'],'1')\n",
    "data['Favorite Music Genre'] = data['Favorite Music Genre'].replace(['Hip hop'],'2')\n",
    "data['Favorite Music Genre'] = data['Favorite Music Genre'].replace(['Folk/Traditional'],'3')\n",
    "data['Favorite Music Genre'] = data['Favorite Music Genre'].replace(['Jazz/Blues'],'4')\n",
    "data['Favorite Music Genre'] = data['Favorite Music Genre'].replace(['Pop'],'5')\n",
    "data['Favorite Music Genre'] = data['Favorite Music Genre'].replace(['Electronic'],'6')\n",
    "data['Favorite Music Genre'] = data['Favorite Music Genre'].replace(['R&B and soul'],'7')\n",
    "\n",
    "data['Favorite Beverage'] = data['Favorite Beverage'].replace(['Vodka'],'1')\n",
    "data['Favorite Beverage'] = data['Favorite Beverage'].replace(['Wine'],'2')\n",
    "data['Favorite Beverage'] = data['Favorite Beverage'].replace(['Whiskey'],'3')\n",
    "data['Favorite Beverage'] = data['Favorite Beverage'].replace([\"Doesn't drink\"],'4')\n",
    "data['Favorite Beverage'] = data['Favorite Beverage'].replace(['Beer'],'5')\n",
    "data['Favorite Beverage'] = data['Favorite Beverage'].replace(['Other'],'6')\n",
    "\n",
    "data['Favorite Soft Drink'] = data['Favorite Soft Drink'].replace(['7UP/Sprite'],'1')\n",
    "data['Favorite Soft Drink'] = data['Favorite Soft Drink'].replace(['Coca Cola/Pepsi'],'2')\n",
    "data['Favorite Soft Drink'] = data['Favorite Soft Drink'].replace(['Fanta'],'3')\n",
    "data['Favorite Soft Drink'] = data['Favorite Soft Drink'].replace(['Other'],'4')\n",
    "\n",
    "data['Gender'] = data['Gender'].replace(['M'],'1')\n",
    "data['Gender'] = data['Gender'].replace(['F'],'2')\n",
    "data.head()"
   ]
  },
  {
   "cell_type": "code",
   "execution_count": 11,
   "metadata": {},
   "outputs": [
    {
     "data": {
      "text/plain": [
       "(66, 4)"
      ]
     },
     "execution_count": 11,
     "metadata": {},
     "output_type": "execute_result"
    }
   ],
   "source": [
    "dependent = ['Favorite Color', 'Favorite Music Genre', 'Favorite Beverage', 'Favorite Soft Drink']\n",
    "df = data[dependent]\n",
    "y = data[\"Gender\"]\n",
    "\n",
    "df.shape"
   ]
  },
  {
   "cell_type": "code",
   "execution_count": 12,
   "metadata": {},
   "outputs": [
    {
     "data": {
      "text/plain": [
       "(66,)"
      ]
     },
     "execution_count": 12,
     "metadata": {},
     "output_type": "execute_result"
    }
   ],
   "source": [
    "y.shape"
   ]
  },
  {
   "cell_type": "code",
   "execution_count": 13,
   "metadata": {},
   "outputs": [],
   "source": [
    "from sklearn.model_selection import train_test_split\n",
    "X_train, X_test, y_train, y_test = train_test_split(df, y, test_size=0.2)"
   ]
  },
  {
   "cell_type": "markdown",
   "metadata": {},
   "source": [
    "# Naive bayes Classifier"
   ]
  },
  {
   "cell_type": "code",
   "execution_count": 14,
   "metadata": {},
   "outputs": [
    {
     "data": {
      "text/plain": [
       "GaussianNB()"
      ]
     },
     "execution_count": 14,
     "metadata": {},
     "output_type": "execute_result"
    }
   ],
   "source": [
    "from sklearn.naive_bayes import GaussianNB\n",
    "clf = GaussianNB()\n",
    "clf.fit(X_train, y_train)"
   ]
  },
  {
   "cell_type": "code",
   "execution_count": 15,
   "metadata": {},
   "outputs": [
    {
     "name": "stdout",
     "output_type": "stream",
     "text": [
      "Accuracy: 0.42857142857142855\n"
     ]
    }
   ],
   "source": [
    "from sklearn import metrics\n",
    "predicted = clf.predict(X_test)\n",
    "NB = metrics.accuracy_score(y_test, predicted)\n",
    "print(\"Accuracy:\",NB)"
   ]
  },
  {
   "cell_type": "markdown",
   "metadata": {},
   "source": [
    "## K- Nearest Neighbour"
   ]
  },
  {
   "cell_type": "code",
   "execution_count": 16,
   "metadata": {},
   "outputs": [
    {
     "data": {
      "text/plain": [
       "KNeighborsClassifier(n_neighbors=3)"
      ]
     },
     "execution_count": 16,
     "metadata": {},
     "output_type": "execute_result"
    }
   ],
   "source": [
    "from sklearn.neighbors import KNeighborsClassifier\n",
    "neigh = KNeighborsClassifier(n_neighbors=3)\n",
    "neigh.fit(X_train, y_train)\n"
   ]
  },
  {
   "cell_type": "code",
   "execution_count": 17,
   "metadata": {},
   "outputs": [
    {
     "name": "stdout",
     "output_type": "stream",
     "text": [
      "Accuracy: 0.6428571428571429\n"
     ]
    }
   ],
   "source": [
    "predicted2 = neigh.predict(X_test)\n",
    "KNN = metrics.accuracy_score(y_test, predicted2)\n",
    "print(\"Accuracy:\",KNN)"
   ]
  },
  {
   "cell_type": "markdown",
   "metadata": {},
   "source": [
    "## Simple Neural Net"
   ]
  },
  {
   "cell_type": "code",
   "execution_count": 18,
   "metadata": {},
   "outputs": [],
   "source": [
    "import keras\n",
    "from keras.models import Sequential\n",
    "from keras.layers import Dense\n",
    "\n",
    "# Neural network\n",
    "snn = Sequential()\n",
    "snn.add(Dense(16, input_dim=20, activation='relu'))\n",
    "snn.add(Dense(22, activation='relu'))\n",
    "snn.add(Dense(12, activation='relu'))\n",
    "snn.add(Dense(2, activation='softmax'))"
   ]
  },
  {
   "cell_type": "code",
   "execution_count": 19,
   "metadata": {},
   "outputs": [],
   "source": [
    "snn.compile(optimizer='rmsprop',loss='categorical_crossentropy',metrics=['accuracy'])"
   ]
  },
  {
   "cell_type": "code",
   "execution_count": 20,
   "metadata": {
    "scrolled": true
   },
   "outputs": [
    {
     "name": "stdout",
     "output_type": "stream",
     "text": [
      "Model: \"sequential\"\n",
      "_________________________________________________________________\n",
      "Layer (type)                 Output Shape              Param #   \n",
      "=================================================================\n",
      "dense (Dense)                (None, 16)                336       \n",
      "_________________________________________________________________\n",
      "dense_1 (Dense)              (None, 22)                374       \n",
      "_________________________________________________________________\n",
      "dense_2 (Dense)              (None, 12)                276       \n",
      "_________________________________________________________________\n",
      "dense_3 (Dense)              (None, 2)                 26        \n",
      "=================================================================\n",
      "Total params: 1,012\n",
      "Trainable params: 1,012\n",
      "Non-trainable params: 0\n",
      "_________________________________________________________________\n"
     ]
    }
   ],
   "source": [
    "snn.summary()"
   ]
  },
  {
   "cell_type": "code",
   "execution_count": 21,
   "metadata": {},
   "outputs": [],
   "source": [
    "df=encoded[:,:-2]\n",
    "y=encoded[:,-2:]\n",
    "X_train, X_test, y_train, y_test = train_test_split(df, y, test_size=0.2)"
   ]
  },
  {
   "cell_type": "code",
   "execution_count": 22,
   "metadata": {
    "scrolled": true
   },
   "outputs": [
    {
     "name": "stdout",
     "output_type": "stream",
     "text": [
      "Epoch 1/150\n",
      "1/1 [==============================] - 1s 1s/step - loss: 0.6948 - accuracy: 0.5000 - val_loss: 0.7150 - val_accuracy: 0.4286\n",
      "Epoch 2/150\n",
      "1/1 [==============================] - 0s 25ms/step - loss: 0.6809 - accuracy: 0.5769 - val_loss: 0.7105 - val_accuracy: 0.5000\n",
      "Epoch 3/150\n",
      "1/1 [==============================] - 0s 25ms/step - loss: 0.6720 - accuracy: 0.6346 - val_loss: 0.7056 - val_accuracy: 0.5000\n",
      "Epoch 4/150\n",
      "1/1 [==============================] - 0s 24ms/step - loss: 0.6641 - accuracy: 0.6731 - val_loss: 0.7016 - val_accuracy: 0.5714\n",
      "Epoch 5/150\n",
      "1/1 [==============================] - 0s 23ms/step - loss: 0.6582 - accuracy: 0.6731 - val_loss: 0.6996 - val_accuracy: 0.5714\n",
      "Epoch 6/150\n",
      "1/1 [==============================] - 0s 24ms/step - loss: 0.6530 - accuracy: 0.6731 - val_loss: 0.6981 - val_accuracy: 0.5714\n",
      "Epoch 7/150\n",
      "1/1 [==============================] - 0s 22ms/step - loss: 0.6489 - accuracy: 0.7500 - val_loss: 0.6970 - val_accuracy: 0.5714\n",
      "Epoch 8/150\n",
      "1/1 [==============================] - 0s 25ms/step - loss: 0.6457 - accuracy: 0.6923 - val_loss: 0.6969 - val_accuracy: 0.5714\n",
      "Epoch 9/150\n",
      "1/1 [==============================] - 0s 22ms/step - loss: 0.6422 - accuracy: 0.8077 - val_loss: 0.6960 - val_accuracy: 0.5714\n",
      "Epoch 10/150\n",
      "1/1 [==============================] - 0s 24ms/step - loss: 0.6391 - accuracy: 0.8077 - val_loss: 0.6975 - val_accuracy: 0.5714\n",
      "Epoch 11/150\n",
      "1/1 [==============================] - 0s 24ms/step - loss: 0.6363 - accuracy: 0.8077 - val_loss: 0.6955 - val_accuracy: 0.5714\n",
      "Epoch 12/150\n",
      "1/1 [==============================] - 0s 24ms/step - loss: 0.6334 - accuracy: 0.8077 - val_loss: 0.6966 - val_accuracy: 0.5714\n",
      "Epoch 13/150\n",
      "1/1 [==============================] - 0s 25ms/step - loss: 0.6302 - accuracy: 0.8077 - val_loss: 0.6951 - val_accuracy: 0.5714\n",
      "Epoch 14/150\n",
      "1/1 [==============================] - 0s 24ms/step - loss: 0.6275 - accuracy: 0.8077 - val_loss: 0.6962 - val_accuracy: 0.5714\n",
      "Epoch 15/150\n",
      "1/1 [==============================] - 0s 25ms/step - loss: 0.6246 - accuracy: 0.8077 - val_loss: 0.6939 - val_accuracy: 0.5714\n",
      "Epoch 16/150\n",
      "1/1 [==============================] - 0s 22ms/step - loss: 0.6220 - accuracy: 0.8077 - val_loss: 0.6957 - val_accuracy: 0.5714\n",
      "Epoch 17/150\n",
      "1/1 [==============================] - 0s 24ms/step - loss: 0.6191 - accuracy: 0.8077 - val_loss: 0.6948 - val_accuracy: 0.5714\n",
      "Epoch 18/150\n",
      "1/1 [==============================] - 0s 24ms/step - loss: 0.6163 - accuracy: 0.8077 - val_loss: 0.6954 - val_accuracy: 0.5714\n",
      "Epoch 19/150\n",
      "1/1 [==============================] - 0s 25ms/step - loss: 0.6134 - accuracy: 0.8269 - val_loss: 0.6948 - val_accuracy: 0.5714\n",
      "Epoch 20/150\n",
      "1/1 [==============================] - 0s 25ms/step - loss: 0.6107 - accuracy: 0.8462 - val_loss: 0.6957 - val_accuracy: 0.5714\n",
      "Epoch 21/150\n",
      "1/1 [==============================] - 0s 25ms/step - loss: 0.6078 - accuracy: 0.8462 - val_loss: 0.6932 - val_accuracy: 0.5714\n",
      "Epoch 22/150\n",
      "1/1 [==============================] - 0s 25ms/step - loss: 0.6050 - accuracy: 0.8462 - val_loss: 0.6942 - val_accuracy: 0.5714\n",
      "Epoch 23/150\n",
      "1/1 [==============================] - 0s 24ms/step - loss: 0.6020 - accuracy: 0.8462 - val_loss: 0.6925 - val_accuracy: 0.5714\n",
      "Epoch 24/150\n",
      "1/1 [==============================] - 0s 24ms/step - loss: 0.5991 - accuracy: 0.8462 - val_loss: 0.6924 - val_accuracy: 0.5714\n",
      "Epoch 25/150\n",
      "1/1 [==============================] - 0s 22ms/step - loss: 0.5964 - accuracy: 0.8462 - val_loss: 0.6908 - val_accuracy: 0.5714\n",
      "Epoch 26/150\n",
      "1/1 [==============================] - 0s 25ms/step - loss: 0.5936 - accuracy: 0.8462 - val_loss: 0.6913 - val_accuracy: 0.5714\n",
      "Epoch 27/150\n",
      "1/1 [==============================] - 0s 23ms/step - loss: 0.5908 - accuracy: 0.8462 - val_loss: 0.6894 - val_accuracy: 0.5714\n",
      "Epoch 28/150\n",
      "1/1 [==============================] - 0s 24ms/step - loss: 0.5882 - accuracy: 0.8462 - val_loss: 0.6900 - val_accuracy: 0.5714\n",
      "Epoch 29/150\n",
      "1/1 [==============================] - 0s 21ms/step - loss: 0.5853 - accuracy: 0.8462 - val_loss: 0.6883 - val_accuracy: 0.5714\n",
      "Epoch 30/150\n",
      "1/1 [==============================] - 0s 23ms/step - loss: 0.5824 - accuracy: 0.8654 - val_loss: 0.6885 - val_accuracy: 0.5714\n",
      "Epoch 31/150\n",
      "1/1 [==============================] - 0s 21ms/step - loss: 0.5796 - accuracy: 0.8654 - val_loss: 0.6872 - val_accuracy: 0.5714\n",
      "Epoch 32/150\n",
      "1/1 [==============================] - 0s 23ms/step - loss: 0.5767 - accuracy: 0.8654 - val_loss: 0.6876 - val_accuracy: 0.5714\n",
      "Epoch 33/150\n",
      "1/1 [==============================] - 0s 24ms/step - loss: 0.5740 - accuracy: 0.8654 - val_loss: 0.6852 - val_accuracy: 0.6429\n",
      "Epoch 34/150\n",
      "1/1 [==============================] - 0s 24ms/step - loss: 0.5714 - accuracy: 0.8654 - val_loss: 0.6856 - val_accuracy: 0.6429\n",
      "Epoch 35/150\n",
      "1/1 [==============================] - 0s 23ms/step - loss: 0.5686 - accuracy: 0.8654 - val_loss: 0.6837 - val_accuracy: 0.7143\n",
      "Epoch 36/150\n",
      "1/1 [==============================] - 0s 22ms/step - loss: 0.5652 - accuracy: 0.8654 - val_loss: 0.6831 - val_accuracy: 0.7143\n",
      "Epoch 37/150\n",
      "1/1 [==============================] - 0s 24ms/step - loss: 0.5622 - accuracy: 0.8846 - val_loss: 0.6827 - val_accuracy: 0.7143\n",
      "Epoch 38/150\n",
      "1/1 [==============================] - 0s 23ms/step - loss: 0.5593 - accuracy: 0.8846 - val_loss: 0.6807 - val_accuracy: 0.7143\n",
      "Epoch 39/150\n",
      "1/1 [==============================] - 0s 24ms/step - loss: 0.5564 - accuracy: 0.8846 - val_loss: 0.6794 - val_accuracy: 0.7143\n",
      "Epoch 40/150\n",
      "1/1 [==============================] - 0s 22ms/step - loss: 0.5536 - accuracy: 0.8846 - val_loss: 0.6790 - val_accuracy: 0.7143\n",
      "Epoch 41/150\n",
      "1/1 [==============================] - 0s 23ms/step - loss: 0.5507 - accuracy: 0.8846 - val_loss: 0.6785 - val_accuracy: 0.7143\n",
      "Epoch 42/150\n",
      "1/1 [==============================] - 0s 21ms/step - loss: 0.5474 - accuracy: 0.8846 - val_loss: 0.6759 - val_accuracy: 0.7143\n",
      "Epoch 43/150\n",
      "1/1 [==============================] - 0s 22ms/step - loss: 0.5444 - accuracy: 0.8846 - val_loss: 0.6764 - val_accuracy: 0.7143\n",
      "Epoch 44/150\n",
      "1/1 [==============================] - 0s 21ms/step - loss: 0.5414 - accuracy: 0.8846 - val_loss: 0.6737 - val_accuracy: 0.7143\n",
      "Epoch 45/150\n",
      "1/1 [==============================] - 0s 23ms/step - loss: 0.5382 - accuracy: 0.8846 - val_loss: 0.6726 - val_accuracy: 0.7143\n",
      "Epoch 46/150\n",
      "1/1 [==============================] - 0s 24ms/step - loss: 0.5351 - accuracy: 0.8846 - val_loss: 0.6709 - val_accuracy: 0.7143\n",
      "Epoch 47/150\n",
      "1/1 [==============================] - 0s 21ms/step - loss: 0.5322 - accuracy: 0.8846 - val_loss: 0.6721 - val_accuracy: 0.7143\n",
      "Epoch 48/150\n",
      "1/1 [==============================] - 0s 23ms/step - loss: 0.5290 - accuracy: 0.8846 - val_loss: 0.6694 - val_accuracy: 0.7143\n",
      "Epoch 49/150\n",
      "1/1 [==============================] - 0s 22ms/step - loss: 0.5258 - accuracy: 0.8846 - val_loss: 0.6686 - val_accuracy: 0.7143\n",
      "Epoch 50/150\n",
      "1/1 [==============================] - 0s 24ms/step - loss: 0.5224 - accuracy: 0.8846 - val_loss: 0.6682 - val_accuracy: 0.7143\n",
      "Epoch 51/150\n",
      "1/1 [==============================] - 0s 23ms/step - loss: 0.5192 - accuracy: 0.9038 - val_loss: 0.6654 - val_accuracy: 0.7143\n",
      "Epoch 52/150\n",
      "1/1 [==============================] - 0s 24ms/step - loss: 0.5158 - accuracy: 0.8846 - val_loss: 0.6653 - val_accuracy: 0.7143\n",
      "Epoch 53/150\n",
      "1/1 [==============================] - 0s 21ms/step - loss: 0.5123 - accuracy: 0.9038 - val_loss: 0.6635 - val_accuracy: 0.7143\n",
      "Epoch 54/150\n",
      "1/1 [==============================] - 0s 22ms/step - loss: 0.5085 - accuracy: 0.8846 - val_loss: 0.6617 - val_accuracy: 0.7143\n",
      "Epoch 55/150\n",
      "1/1 [==============================] - 0s 21ms/step - loss: 0.5052 - accuracy: 0.9038 - val_loss: 0.6609 - val_accuracy: 0.7143\n",
      "Epoch 56/150\n",
      "1/1 [==============================] - 0s 21ms/step - loss: 0.5015 - accuracy: 0.9038 - val_loss: 0.6612 - val_accuracy: 0.7143\n",
      "Epoch 57/150\n",
      "1/1 [==============================] - 0s 24ms/step - loss: 0.4986 - accuracy: 0.9038 - val_loss: 0.6570 - val_accuracy: 0.7143\n",
      "Epoch 58/150\n",
      "1/1 [==============================] - 0s 23ms/step - loss: 0.4948 - accuracy: 0.9038 - val_loss: 0.6595 - val_accuracy: 0.7143\n",
      "Epoch 59/150\n"
     ]
    },
    {
     "name": "stdout",
     "output_type": "stream",
     "text": [
      "1/1 [==============================] - 0s 21ms/step - loss: 0.4913 - accuracy: 0.9038 - val_loss: 0.6552 - val_accuracy: 0.7143\n",
      "Epoch 60/150\n",
      "1/1 [==============================] - 0s 24ms/step - loss: 0.4876 - accuracy: 0.9038 - val_loss: 0.6576 - val_accuracy: 0.7143\n",
      "Epoch 61/150\n",
      "1/1 [==============================] - 0s 24ms/step - loss: 0.4841 - accuracy: 0.9038 - val_loss: 0.6528 - val_accuracy: 0.7143\n",
      "Epoch 62/150\n",
      "1/1 [==============================] - 0s 22ms/step - loss: 0.4805 - accuracy: 0.9038 - val_loss: 0.6547 - val_accuracy: 0.7143\n",
      "Epoch 63/150\n",
      "1/1 [==============================] - 0s 23ms/step - loss: 0.4770 - accuracy: 0.9038 - val_loss: 0.6516 - val_accuracy: 0.7143\n",
      "Epoch 64/150\n",
      "1/1 [==============================] - 0s 23ms/step - loss: 0.4729 - accuracy: 0.9038 - val_loss: 0.6516 - val_accuracy: 0.7143\n",
      "Epoch 65/150\n",
      "1/1 [==============================] - 0s 22ms/step - loss: 0.4691 - accuracy: 0.9038 - val_loss: 0.6493 - val_accuracy: 0.7143\n",
      "Epoch 66/150\n",
      "1/1 [==============================] - 0s 24ms/step - loss: 0.4649 - accuracy: 0.9038 - val_loss: 0.6483 - val_accuracy: 0.7143\n",
      "Epoch 67/150\n",
      "1/1 [==============================] - 0s 22ms/step - loss: 0.4613 - accuracy: 0.9038 - val_loss: 0.6487 - val_accuracy: 0.7143\n",
      "Epoch 68/150\n",
      "1/1 [==============================] - 0s 23ms/step - loss: 0.4574 - accuracy: 0.9038 - val_loss: 0.6452 - val_accuracy: 0.7143\n",
      "Epoch 69/150\n",
      "1/1 [==============================] - 0s 23ms/step - loss: 0.4541 - accuracy: 0.9038 - val_loss: 0.6456 - val_accuracy: 0.7143\n",
      "Epoch 70/150\n",
      "1/1 [==============================] - 0s 24ms/step - loss: 0.4500 - accuracy: 0.9038 - val_loss: 0.6441 - val_accuracy: 0.7143\n",
      "Epoch 71/150\n",
      "1/1 [==============================] - 0s 29ms/step - loss: 0.4462 - accuracy: 0.9038 - val_loss: 0.6443 - val_accuracy: 0.7143\n",
      "Epoch 72/150\n",
      "1/1 [==============================] - 0s 21ms/step - loss: 0.4426 - accuracy: 0.9038 - val_loss: 0.6427 - val_accuracy: 0.7143\n",
      "Epoch 73/150\n",
      "1/1 [==============================] - 0s 22ms/step - loss: 0.4391 - accuracy: 0.9038 - val_loss: 0.6432 - val_accuracy: 0.7143\n",
      "Epoch 74/150\n",
      "1/1 [==============================] - 0s 22ms/step - loss: 0.4351 - accuracy: 0.9038 - val_loss: 0.6411 - val_accuracy: 0.7143\n",
      "Epoch 75/150\n",
      "1/1 [==============================] - 0s 25ms/step - loss: 0.4315 - accuracy: 0.9038 - val_loss: 0.6424 - val_accuracy: 0.7143\n",
      "Epoch 76/150\n",
      "1/1 [==============================] - 0s 24ms/step - loss: 0.4275 - accuracy: 0.9038 - val_loss: 0.6411 - val_accuracy: 0.7143\n",
      "Epoch 77/150\n",
      "1/1 [==============================] - 0s 22ms/step - loss: 0.4237 - accuracy: 0.9038 - val_loss: 0.6410 - val_accuracy: 0.7143\n",
      "Epoch 78/150\n",
      "1/1 [==============================] - 0s 25ms/step - loss: 0.4196 - accuracy: 0.9038 - val_loss: 0.6408 - val_accuracy: 0.7143\n",
      "Epoch 79/150\n",
      "1/1 [==============================] - 0s 24ms/step - loss: 0.4157 - accuracy: 0.9038 - val_loss: 0.6400 - val_accuracy: 0.7143\n",
      "Epoch 80/150\n",
      "1/1 [==============================] - 0s 21ms/step - loss: 0.4119 - accuracy: 0.9038 - val_loss: 0.6394 - val_accuracy: 0.7143\n",
      "Epoch 81/150\n",
      "1/1 [==============================] - 0s 24ms/step - loss: 0.4085 - accuracy: 0.9038 - val_loss: 0.6381 - val_accuracy: 0.7143\n",
      "Epoch 82/150\n",
      "1/1 [==============================] - 0s 22ms/step - loss: 0.4043 - accuracy: 0.9038 - val_loss: 0.6377 - val_accuracy: 0.7143\n",
      "Epoch 83/150\n",
      "1/1 [==============================] - 0s 23ms/step - loss: 0.4005 - accuracy: 0.9231 - val_loss: 0.6392 - val_accuracy: 0.7143\n",
      "Epoch 84/150\n",
      "1/1 [==============================] - 0s 22ms/step - loss: 0.3965 - accuracy: 0.9231 - val_loss: 0.6372 - val_accuracy: 0.7143\n",
      "Epoch 85/150\n",
      "1/1 [==============================] - 0s 24ms/step - loss: 0.3925 - accuracy: 0.9231 - val_loss: 0.6387 - val_accuracy: 0.7143\n",
      "Epoch 86/150\n",
      "1/1 [==============================] - 0s 24ms/step - loss: 0.3885 - accuracy: 0.9231 - val_loss: 0.6369 - val_accuracy: 0.7143\n",
      "Epoch 87/150\n",
      "1/1 [==============================] - 0s 23ms/step - loss: 0.3842 - accuracy: 0.9231 - val_loss: 0.6380 - val_accuracy: 0.7143\n",
      "Epoch 88/150\n",
      "1/1 [==============================] - 0s 23ms/step - loss: 0.3798 - accuracy: 0.9231 - val_loss: 0.6353 - val_accuracy: 0.7143\n",
      "Epoch 89/150\n",
      "1/1 [==============================] - 0s 22ms/step - loss: 0.3756 - accuracy: 0.9231 - val_loss: 0.6375 - val_accuracy: 0.7143\n",
      "Epoch 90/150\n",
      "1/1 [==============================] - 0s 22ms/step - loss: 0.3716 - accuracy: 0.9231 - val_loss: 0.6338 - val_accuracy: 0.7143\n",
      "Epoch 91/150\n",
      "1/1 [==============================] - 0s 22ms/step - loss: 0.3674 - accuracy: 0.9231 - val_loss: 0.6345 - val_accuracy: 0.7143\n",
      "Epoch 92/150\n",
      "1/1 [==============================] - 0s 21ms/step - loss: 0.3632 - accuracy: 0.9231 - val_loss: 0.6355 - val_accuracy: 0.7143\n",
      "Epoch 93/150\n",
      "1/1 [==============================] - 0s 23ms/step - loss: 0.3593 - accuracy: 0.9231 - val_loss: 0.6336 - val_accuracy: 0.7143\n",
      "Epoch 94/150\n",
      "1/1 [==============================] - 0s 24ms/step - loss: 0.3548 - accuracy: 0.9231 - val_loss: 0.6343 - val_accuracy: 0.7143\n",
      "Epoch 95/150\n",
      "1/1 [==============================] - 0s 21ms/step - loss: 0.3504 - accuracy: 0.9231 - val_loss: 0.6345 - val_accuracy: 0.7143\n",
      "Epoch 96/150\n",
      "1/1 [==============================] - 0s 24ms/step - loss: 0.3464 - accuracy: 0.9231 - val_loss: 0.6361 - val_accuracy: 0.7143\n",
      "Epoch 97/150\n",
      "1/1 [==============================] - 0s 25ms/step - loss: 0.3425 - accuracy: 0.9231 - val_loss: 0.6349 - val_accuracy: 0.7143\n",
      "Epoch 98/150\n",
      "1/1 [==============================] - 0s 22ms/step - loss: 0.3384 - accuracy: 0.9231 - val_loss: 0.6357 - val_accuracy: 0.7143\n",
      "Epoch 99/150\n",
      "1/1 [==============================] - 0s 23ms/step - loss: 0.3346 - accuracy: 0.9231 - val_loss: 0.6354 - val_accuracy: 0.7143\n",
      "Epoch 100/150\n",
      "1/1 [==============================] - 0s 23ms/step - loss: 0.3307 - accuracy: 0.9231 - val_loss: 0.6351 - val_accuracy: 0.7143\n",
      "Epoch 101/150\n",
      "1/1 [==============================] - 0s 22ms/step - loss: 0.3270 - accuracy: 0.9231 - val_loss: 0.6362 - val_accuracy: 0.7143\n",
      "Epoch 102/150\n",
      "1/1 [==============================] - 0s 23ms/step - loss: 0.3228 - accuracy: 0.9231 - val_loss: 0.6379 - val_accuracy: 0.7143\n",
      "Epoch 103/150\n",
      "1/1 [==============================] - 0s 25ms/step - loss: 0.3187 - accuracy: 0.9231 - val_loss: 0.6372 - val_accuracy: 0.7143\n",
      "Epoch 104/150\n",
      "1/1 [==============================] - 0s 22ms/step - loss: 0.3146 - accuracy: 0.9231 - val_loss: 0.6381 - val_accuracy: 0.7143\n",
      "Epoch 105/150\n",
      "1/1 [==============================] - 0s 23ms/step - loss: 0.3104 - accuracy: 0.9231 - val_loss: 0.6414 - val_accuracy: 0.7143\n",
      "Epoch 106/150\n",
      "1/1 [==============================] - 0s 23ms/step - loss: 0.3066 - accuracy: 0.9231 - val_loss: 0.6404 - val_accuracy: 0.7143\n",
      "Epoch 107/150\n",
      "1/1 [==============================] - 0s 23ms/step - loss: 0.3027 - accuracy: 0.9231 - val_loss: 0.6431 - val_accuracy: 0.7143\n",
      "Epoch 108/150\n",
      "1/1 [==============================] - 0s 22ms/step - loss: 0.2990 - accuracy: 0.9231 - val_loss: 0.6449 - val_accuracy: 0.7143\n",
      "Epoch 109/150\n",
      "1/1 [==============================] - 0s 22ms/step - loss: 0.2957 - accuracy: 0.9231 - val_loss: 0.6465 - val_accuracy: 0.7143\n",
      "Epoch 110/150\n",
      "1/1 [==============================] - 0s 22ms/step - loss: 0.2914 - accuracy: 0.9231 - val_loss: 0.6499 - val_accuracy: 0.7143\n",
      "Epoch 111/150\n",
      "1/1 [==============================] - 0s 24ms/step - loss: 0.2876 - accuracy: 0.9231 - val_loss: 0.6501 - val_accuracy: 0.7143\n",
      "Epoch 112/150\n",
      "1/1 [==============================] - 0s 23ms/step - loss: 0.2835 - accuracy: 0.9231 - val_loss: 0.6538 - val_accuracy: 0.7143\n",
      "Epoch 113/150\n",
      "1/1 [==============================] - 0s 24ms/step - loss: 0.2796 - accuracy: 0.9231 - val_loss: 0.6564 - val_accuracy: 0.7143\n",
      "Epoch 114/150\n",
      "1/1 [==============================] - 0s 22ms/step - loss: 0.2756 - accuracy: 0.9423 - val_loss: 0.6564 - val_accuracy: 0.7143\n",
      "Epoch 115/150\n",
      "1/1 [==============================] - 0s 23ms/step - loss: 0.2716 - accuracy: 0.9615 - val_loss: 0.6617 - val_accuracy: 0.7143\n",
      "Epoch 116/150\n",
      "1/1 [==============================] - 0s 22ms/step - loss: 0.2677 - accuracy: 0.9423 - val_loss: 0.6626 - val_accuracy: 0.7143\n",
      "Epoch 117/150\n"
     ]
    },
    {
     "name": "stdout",
     "output_type": "stream",
     "text": [
      "1/1 [==============================] - 0s 24ms/step - loss: 0.2640 - accuracy: 0.9615 - val_loss: 0.6630 - val_accuracy: 0.7143\n",
      "Epoch 118/150\n",
      "1/1 [==============================] - 0s 22ms/step - loss: 0.2604 - accuracy: 0.9615 - val_loss: 0.6657 - val_accuracy: 0.7143\n",
      "Epoch 119/150\n",
      "1/1 [==============================] - 0s 23ms/step - loss: 0.2565 - accuracy: 0.9615 - val_loss: 0.6668 - val_accuracy: 0.7143\n",
      "Epoch 120/150\n",
      "1/1 [==============================] - 0s 22ms/step - loss: 0.2525 - accuracy: 0.9615 - val_loss: 0.6702 - val_accuracy: 0.7143\n",
      "Epoch 121/150\n",
      "1/1 [==============================] - 0s 22ms/step - loss: 0.2486 - accuracy: 0.9615 - val_loss: 0.6723 - val_accuracy: 0.7143\n",
      "Epoch 122/150\n",
      "1/1 [==============================] - 0s 23ms/step - loss: 0.2448 - accuracy: 0.9615 - val_loss: 0.6757 - val_accuracy: 0.7143\n",
      "Epoch 123/150\n",
      "1/1 [==============================] - 0s 24ms/step - loss: 0.2412 - accuracy: 0.9615 - val_loss: 0.6768 - val_accuracy: 0.7143\n",
      "Epoch 124/150\n",
      "1/1 [==============================] - 0s 22ms/step - loss: 0.2376 - accuracy: 0.9615 - val_loss: 0.6819 - val_accuracy: 0.7143\n",
      "Epoch 125/150\n",
      "1/1 [==============================] - 0s 23ms/step - loss: 0.2342 - accuracy: 0.9615 - val_loss: 0.6834 - val_accuracy: 0.7143\n",
      "Epoch 126/150\n",
      "1/1 [==============================] - 0s 25ms/step - loss: 0.2306 - accuracy: 0.9615 - val_loss: 0.6870 - val_accuracy: 0.7143\n",
      "Epoch 127/150\n",
      "1/1 [==============================] - 0s 23ms/step - loss: 0.2271 - accuracy: 0.9615 - val_loss: 0.6908 - val_accuracy: 0.7143\n",
      "Epoch 128/150\n",
      "1/1 [==============================] - 0s 23ms/step - loss: 0.2236 - accuracy: 0.9615 - val_loss: 0.6973 - val_accuracy: 0.7143\n",
      "Epoch 129/150\n",
      "1/1 [==============================] - 0s 23ms/step - loss: 0.2212 - accuracy: 0.9615 - val_loss: 0.6940 - val_accuracy: 0.7143\n",
      "Epoch 130/150\n",
      "1/1 [==============================] - 0s 23ms/step - loss: 0.2180 - accuracy: 0.9615 - val_loss: 0.6995 - val_accuracy: 0.7143\n",
      "Epoch 131/150\n",
      "1/1 [==============================] - 0s 22ms/step - loss: 0.2141 - accuracy: 0.9615 - val_loss: 0.7031 - val_accuracy: 0.7143\n",
      "Epoch 132/150\n",
      "1/1 [==============================] - 0s 24ms/step - loss: 0.2107 - accuracy: 0.9615 - val_loss: 0.7066 - val_accuracy: 0.7143\n",
      "Epoch 133/150\n",
      "1/1 [==============================] - 0s 23ms/step - loss: 0.2076 - accuracy: 0.9615 - val_loss: 0.7099 - val_accuracy: 0.7143\n",
      "Epoch 134/150\n",
      "1/1 [==============================] - 0s 23ms/step - loss: 0.2044 - accuracy: 0.9615 - val_loss: 0.7147 - val_accuracy: 0.7143\n",
      "Epoch 135/150\n",
      "1/1 [==============================] - 0s 23ms/step - loss: 0.2016 - accuracy: 0.9615 - val_loss: 0.7160 - val_accuracy: 0.7143\n",
      "Epoch 136/150\n",
      "1/1 [==============================] - 0s 24ms/step - loss: 0.1985 - accuracy: 0.9615 - val_loss: 0.7215 - val_accuracy: 0.7143\n",
      "Epoch 137/150\n",
      "1/1 [==============================] - 0s 24ms/step - loss: 0.1956 - accuracy: 0.9615 - val_loss: 0.7219 - val_accuracy: 0.7143\n",
      "Epoch 138/150\n",
      "1/1 [==============================] - 0s 24ms/step - loss: 0.1927 - accuracy: 0.9615 - val_loss: 0.7291 - val_accuracy: 0.7143\n",
      "Epoch 139/150\n",
      "1/1 [==============================] - 0s 23ms/step - loss: 0.1897 - accuracy: 0.9615 - val_loss: 0.7297 - val_accuracy: 0.7143\n",
      "Epoch 140/150\n",
      "1/1 [==============================] - 0s 23ms/step - loss: 0.1865 - accuracy: 0.9615 - val_loss: 0.7350 - val_accuracy: 0.7143\n",
      "Epoch 141/150\n",
      "1/1 [==============================] - 0s 24ms/step - loss: 0.1835 - accuracy: 0.9615 - val_loss: 0.7379 - val_accuracy: 0.7143\n",
      "Epoch 142/150\n",
      "1/1 [==============================] - 0s 23ms/step - loss: 0.1806 - accuracy: 0.9615 - val_loss: 0.7416 - val_accuracy: 0.7143\n",
      "Epoch 143/150\n",
      "1/1 [==============================] - 0s 24ms/step - loss: 0.1778 - accuracy: 0.9615 - val_loss: 0.7443 - val_accuracy: 0.7143\n",
      "Epoch 144/150\n",
      "1/1 [==============================] - 0s 23ms/step - loss: 0.1751 - accuracy: 0.9615 - val_loss: 0.7501 - val_accuracy: 0.7143\n",
      "Epoch 145/150\n",
      "1/1 [==============================] - 0s 22ms/step - loss: 0.1720 - accuracy: 0.9615 - val_loss: 0.7473 - val_accuracy: 0.7143\n",
      "Epoch 146/150\n",
      "1/1 [==============================] - 0s 24ms/step - loss: 0.1693 - accuracy: 0.9615 - val_loss: 0.7600 - val_accuracy: 0.7143\n",
      "Epoch 147/150\n",
      "1/1 [==============================] - 0s 24ms/step - loss: 0.1663 - accuracy: 0.9615 - val_loss: 0.7585 - val_accuracy: 0.7143\n",
      "Epoch 148/150\n",
      "1/1 [==============================] - 0s 25ms/step - loss: 0.1636 - accuracy: 0.9615 - val_loss: 0.7666 - val_accuracy: 0.7143\n",
      "Epoch 149/150\n",
      "1/1 [==============================] - 0s 25ms/step - loss: 0.1609 - accuracy: 0.9615 - val_loss: 0.7671 - val_accuracy: 0.7143\n",
      "Epoch 150/150\n",
      "1/1 [==============================] - 0s 25ms/step - loss: 0.1586 - accuracy: 0.9615 - val_loss: 0.7752 - val_accuracy: 0.7143\n"
     ]
    }
   ],
   "source": [
    "test = snn.fit(X_train, y_train,validation_data = (X_test,y_test), epochs=150, batch_size=64)"
   ]
  },
  {
   "cell_type": "code",
   "execution_count": 23,
   "metadata": {},
   "outputs": [
    {
     "data": {
      "text/plain": [
       "dict_keys(['loss', 'accuracy', 'val_loss', 'val_accuracy'])"
      ]
     },
     "execution_count": 23,
     "metadata": {},
     "output_type": "execute_result"
    }
   ],
   "source": [
    "test.history.keys()"
   ]
  },
  {
   "cell_type": "code",
   "execution_count": 24,
   "metadata": {},
   "outputs": [
    {
     "data": {
      "image/png": "[encoded data removed]",
      "text/plain": [
       "<Figure size 432x288 with 1 Axes>"
      ]
     },
     "metadata": {
      "needs_background": "light"
     },
     "output_type": "display_data"
    }
   ],
   "source": [
    "import matplotlib.pyplot as plt\n",
    "plt.plot(test.history['accuracy'])\n",
    "plt.plot(test.history['val_accuracy'])\n",
    "plt.title('Model accuracy')\n",
    "plt.ylabel('Accuracy')\n",
    "plt.xlabel('Epoch')\n",
    "plt.legend(['Train', 'Test'], loc='upper left')\n",
    "plt.show()"
   ]
  },
  {
   "cell_type": "code",
   "execution_count": 25,
   "metadata": {},
   "outputs": [
    {
     "data": {
      "image/png": "[encoded data removed]",
      "text/plain": [
       "<Figure size 432x288 with 1 Axes>"
      ]
     },
     "metadata": {
      "needs_background": "light"
     },
     "output_type": "display_data"
    }
   ],
   "source": [
    "plt.plot(test.history['loss']) \n",
    "plt.plot(test.history['val_loss']) \n",
    "plt.title('Model loss') \n",
    "plt.ylabel('Loss') \n",
    "plt.xlabel('Epoch') \n",
    "plt.legend(['Train', 'Test'], loc='upper left') \n",
    "plt.show()"
   ]
  },
  {
   "cell_type": "code",
   "execution_count": 26,
   "metadata": {},
   "outputs": [],
   "source": [
    "NN = test.history['accuracy'][149]"
   ]
  },
  {
   "cell_type": "code",
   "execution_count": 33,
   "metadata": {},
   "outputs": [
    {
     "data": {
      "image/png": "[encoded data removed]",
      "text/plain": [
       "<Figure size 1080x576 with 1 Axes>"
      ]
     },
     "metadata": {
      "needs_background": "light"
     },
     "output_type": "display_data"
    }
   ],
   "source": [
    "# Visualising the accuracy score of each classification model\n",
    "models = ['NaiveBayes','KNearestNeighbors','Neural Network']\n",
    "accuracys = [NB,KNN,NN]\n",
    "\n",
    "plt.rcParams['figure.figsize']=15,8 \n",
    "ax = sns.barplot(x=models, y=accuracys)\n",
    "plt.xlabel(\"Classifier Models\")\n",
    "plt.ylabel(\"% of Accuracy\")\n",
    "plt.title(\"Accuracy of different Classifier Models\",fontsize = 30)\n",
    "plt.xticks(fontsize = 13, horizontalalignment = 'center', rotation = 0)\n",
    "plt.yticks(fontsize = 13)\n",
    "for p in ax.patches:\n",
    "    width, height = p.get_width(), p.get_height()\n",
    "    x, y = p.get_xy() \n",
    "    ax.annotate(f'{height:.2%}', (x + width/2, y + height*1.02), ha='center', fontsize = 'x-large')\n",
    "plt.show()"
   ]
  },
  {
   "cell_type": "markdown",
   "metadata": {},
   "source": [
    "### Conclusion:\n",
    "The Neural network has the best accuracy of 96% and would be the best suited to predict gender base on the features:\n",
    "\n",
    "'Favorite Color',\n",
    "'Favorite Music Genre',\n",
    "'Favorite Beverage',\n",
    "'Favorite Soft Drink'."
   ]
  },
  {
   "cell_type": "code",
   "execution_count": null,
   "metadata": {},
   "outputs": [],
   "source": []
  }
 ],
 "metadata": {
  "kernelspec": {
   "display_name": "Python 3",
   "language": "python",
   "name": "python3"
  },
  "language_info": {
   "codemirror_mode": {
    "name": "ipython",
    "version": 3
   },
   "file_extension": ".py",
   "mimetype": "text/x-python",
   "name": "python",
   "nbconvert_exporter": "python",
   "pygments_lexer": "ipython3",
   "version": "3.8.5"
  }
 },
 "nbformat": 4,
 "nbformat_minor": 4
}
